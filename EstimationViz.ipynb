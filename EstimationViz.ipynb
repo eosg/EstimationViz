{
 "cells": [
  {
   "cell_type": "markdown",
   "metadata": {},
   "source": [
    "# Maximum Likelihood Estimate versus Maximum-a-posteriori Estimate\n",
    "\n",
    "# A simple illustrative example with coin toss.\n",
    "\n",
    "Let’s say that we have a coin and each time we toss the coin we can get heads (=H) or Tails (=T).\n",
    "In one example we toss the coin twice and get two heads and one tail in a row.  Now our data, D=[H,H, T].\n",
    "Let θ be the parameter we want to estimate, where θ is the probability of getting heads, P(H)=θ.\n"
   ]
  },
  {
   "cell_type": "markdown",
   "metadata": {},
   "source": [
    "Case 1: ML estimate"
   ]
  },
  {
   "cell_type": "code",
   "execution_count": 8,
   "metadata": {
    "collapsed": false
   },
   "outputs": [
    {
     "data": {
      "text/latex": [
       "$$θ_{ML}=\\arg⁡ \\underset{θ}{\\max}⁡ p(data|θ)$$"
      ],
      "text/plain": [
       "<IPython.core.display.Math object>"
      ]
     },
     "metadata": {},
     "output_type": "display_data"
    },
    {
     "data": {
      "text/latex": [
       "$$P(data│θ)=P(D|θ)=P(D;θ)=P(D=[H,H,T];θ)=(θ)(θ)(1-θ)=θ^2-θ^3$$"
      ],
      "text/plain": [
       "<IPython.core.display.Math object>"
      ]
     },
     "metadata": {},
     "output_type": "display_data"
    }
   ],
   "source": [
    "from IPython.display import display, Math, Latex\n",
    "display(Math(r'θ_{ML}=\\arg⁡ \\underset{θ}{\\max}⁡ p(data|θ)'))\n",
    "display(Math(r'P(data│θ)=P(D|θ)=P(D;θ)=P(D=[H,H,T];θ)=(θ)(θ)(1-θ)=θ^2-θ^3'))"
   ]
  },
  {
   "cell_type": "code",
   "execution_count": null,
   "metadata": {
    "collapsed": true
   },
   "outputs": [],
   "source": []
  }
 ],
 "metadata": {
  "kernelspec": {
   "display_name": "Python 3",
   "language": "python",
   "name": "python3"
  },
  "language_info": {
   "codemirror_mode": {
    "name": "ipython",
    "version": 3
   },
   "file_extension": ".py",
   "mimetype": "text/x-python",
   "name": "python",
   "nbconvert_exporter": "python",
   "pygments_lexer": "ipython3",
   "version": "3.6.0"
  }
 },
 "nbformat": 4,
 "nbformat_minor": 2
}
